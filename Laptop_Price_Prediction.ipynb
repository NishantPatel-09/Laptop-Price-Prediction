{
  "cells": [
    {
      "cell_type": "markdown",
      "id": "0d643304",
      "metadata": {
        "id": "0d643304"
      },
      "source": [
        "# Laptop Price Prediction\n"
      ]
    },
    {
      "cell_type": "code",
      "execution_count": null,
      "id": "12cc7168-5e28-4114-8e4a-a7580a98346f",
      "metadata": {
        "pycharm": {
          "name": "#%%\n"
        },
        "id": "12cc7168-5e28-4114-8e4a-a7580a98346f"
      },
      "outputs": [],
      "source": [
        "# Importing pandas Library\n",
        "import pandas as pd"
      ]
    },
    {
      "cell_type": "markdown",
      "id": "0d71bcc2",
      "metadata": {
        "id": "0d71bcc2"
      },
      "source": [
        "\n",
        "# Reading and Pre-Processing Data"
      ]
    },
    {
      "cell_type": "code",
      "execution_count": null,
      "id": "5848c6b8-a360-44dc-9db4-e2f3019c679f",
      "metadata": {
        "pycharm": {
          "name": "#%%\n"
        },
        "id": "5848c6b8-a360-44dc-9db4-e2f3019c679f",
        "outputId": "85d06569-eb0d-41f0-f625-2b98d942ab7e"
      },
      "outputs": [
        {
          "data": {
            "text/html": [
              "<div>\n",
              "<style scoped>\n",
              "    .dataframe tbody tr th:only-of-type {\n",
              "        vertical-align: middle;\n",
              "    }\n",
              "\n",
              "    .dataframe tbody tr th {\n",
              "        vertical-align: top;\n",
              "    }\n",
              "\n",
              "    .dataframe thead th {\n",
              "        text-align: right;\n",
              "    }\n",
              "</style>\n",
              "<table border=\"1\" class=\"dataframe\">\n",
              "  <thead>\n",
              "    <tr style=\"text-align: right;\">\n",
              "      <th></th>\n",
              "      <th>laptop_ID</th>\n",
              "      <th>Company</th>\n",
              "      <th>Product</th>\n",
              "      <th>TypeName</th>\n",
              "      <th>Inches</th>\n",
              "      <th>ScreenResolution</th>\n",
              "      <th>Cpu</th>\n",
              "      <th>Ram</th>\n",
              "      <th>Memory</th>\n",
              "      <th>Gpu</th>\n",
              "      <th>OpSys</th>\n",
              "      <th>Weight</th>\n",
              "      <th>Price_euros</th>\n",
              "    </tr>\n",
              "  </thead>\n",
              "  <tbody>\n",
              "    <tr>\n",
              "      <th>0</th>\n",
              "      <td>1</td>\n",
              "      <td>Apple</td>\n",
              "      <td>MacBook Pro</td>\n",
              "      <td>Ultrabook</td>\n",
              "      <td>13.3</td>\n",
              "      <td>IPS Panel Retina Display 2560x1600</td>\n",
              "      <td>Intel Core i5 2.3GHz</td>\n",
              "      <td>8GB</td>\n",
              "      <td>128GB SSD</td>\n",
              "      <td>Intel Iris Plus Graphics 640</td>\n",
              "      <td>macOS</td>\n",
              "      <td>1.37kg</td>\n",
              "      <td>1339.69</td>\n",
              "    </tr>\n",
              "    <tr>\n",
              "      <th>1</th>\n",
              "      <td>2</td>\n",
              "      <td>Apple</td>\n",
              "      <td>Macbook Air</td>\n",
              "      <td>Ultrabook</td>\n",
              "      <td>13.3</td>\n",
              "      <td>1440x900</td>\n",
              "      <td>Intel Core i5 1.8GHz</td>\n",
              "      <td>8GB</td>\n",
              "      <td>128GB Flash Storage</td>\n",
              "      <td>Intel HD Graphics 6000</td>\n",
              "      <td>macOS</td>\n",
              "      <td>1.34kg</td>\n",
              "      <td>898.94</td>\n",
              "    </tr>\n",
              "    <tr>\n",
              "      <th>2</th>\n",
              "      <td>3</td>\n",
              "      <td>HP</td>\n",
              "      <td>250 G6</td>\n",
              "      <td>Notebook</td>\n",
              "      <td>15.6</td>\n",
              "      <td>Full HD 1920x1080</td>\n",
              "      <td>Intel Core i5 7200U 2.5GHz</td>\n",
              "      <td>8GB</td>\n",
              "      <td>256GB SSD</td>\n",
              "      <td>Intel HD Graphics 620</td>\n",
              "      <td>No OS</td>\n",
              "      <td>1.86kg</td>\n",
              "      <td>575.00</td>\n",
              "    </tr>\n",
              "    <tr>\n",
              "      <th>3</th>\n",
              "      <td>4</td>\n",
              "      <td>Apple</td>\n",
              "      <td>MacBook Pro</td>\n",
              "      <td>Ultrabook</td>\n",
              "      <td>15.4</td>\n",
              "      <td>IPS Panel Retina Display 2880x1800</td>\n",
              "      <td>Intel Core i7 2.7GHz</td>\n",
              "      <td>16GB</td>\n",
              "      <td>512GB SSD</td>\n",
              "      <td>AMD Radeon Pro 455</td>\n",
              "      <td>macOS</td>\n",
              "      <td>1.83kg</td>\n",
              "      <td>2537.45</td>\n",
              "    </tr>\n",
              "    <tr>\n",
              "      <th>4</th>\n",
              "      <td>5</td>\n",
              "      <td>Apple</td>\n",
              "      <td>MacBook Pro</td>\n",
              "      <td>Ultrabook</td>\n",
              "      <td>13.3</td>\n",
              "      <td>IPS Panel Retina Display 2560x1600</td>\n",
              "      <td>Intel Core i5 3.1GHz</td>\n",
              "      <td>8GB</td>\n",
              "      <td>256GB SSD</td>\n",
              "      <td>Intel Iris Plus Graphics 650</td>\n",
              "      <td>macOS</td>\n",
              "      <td>1.37kg</td>\n",
              "      <td>1803.60</td>\n",
              "    </tr>\n",
              "    <tr>\n",
              "      <th>...</th>\n",
              "      <td>...</td>\n",
              "      <td>...</td>\n",
              "      <td>...</td>\n",
              "      <td>...</td>\n",
              "      <td>...</td>\n",
              "      <td>...</td>\n",
              "      <td>...</td>\n",
              "      <td>...</td>\n",
              "      <td>...</td>\n",
              "      <td>...</td>\n",
              "      <td>...</td>\n",
              "      <td>...</td>\n",
              "      <td>...</td>\n",
              "    </tr>\n",
              "    <tr>\n",
              "      <th>1298</th>\n",
              "      <td>1316</td>\n",
              "      <td>Lenovo</td>\n",
              "      <td>Yoga 500-14ISK</td>\n",
              "      <td>2 in 1 Convertible</td>\n",
              "      <td>14.0</td>\n",
              "      <td>IPS Panel Full HD / Touchscreen 1920x1080</td>\n",
              "      <td>Intel Core i7 6500U 2.5GHz</td>\n",
              "      <td>4GB</td>\n",
              "      <td>128GB SSD</td>\n",
              "      <td>Intel HD Graphics 520</td>\n",
              "      <td>Windows 10</td>\n",
              "      <td>1.8kg</td>\n",
              "      <td>638.00</td>\n",
              "    </tr>\n",
              "    <tr>\n",
              "      <th>1299</th>\n",
              "      <td>1317</td>\n",
              "      <td>Lenovo</td>\n",
              "      <td>Yoga 900-13ISK</td>\n",
              "      <td>2 in 1 Convertible</td>\n",
              "      <td>13.3</td>\n",
              "      <td>IPS Panel Quad HD+ / Touchscreen 3200x1800</td>\n",
              "      <td>Intel Core i7 6500U 2.5GHz</td>\n",
              "      <td>16GB</td>\n",
              "      <td>512GB SSD</td>\n",
              "      <td>Intel HD Graphics 520</td>\n",
              "      <td>Windows 10</td>\n",
              "      <td>1.3kg</td>\n",
              "      <td>1499.00</td>\n",
              "    </tr>\n",
              "    <tr>\n",
              "      <th>1300</th>\n",
              "      <td>1318</td>\n",
              "      <td>Lenovo</td>\n",
              "      <td>IdeaPad 100S-14IBR</td>\n",
              "      <td>Notebook</td>\n",
              "      <td>14.0</td>\n",
              "      <td>1366x768</td>\n",
              "      <td>Intel Celeron Dual Core N3050 1.6GHz</td>\n",
              "      <td>2GB</td>\n",
              "      <td>64GB Flash Storage</td>\n",
              "      <td>Intel HD Graphics</td>\n",
              "      <td>Windows 10</td>\n",
              "      <td>1.5kg</td>\n",
              "      <td>229.00</td>\n",
              "    </tr>\n",
              "    <tr>\n",
              "      <th>1301</th>\n",
              "      <td>1319</td>\n",
              "      <td>HP</td>\n",
              "      <td>15-AC110nv (i7-6500U/6GB/1TB/Radeon</td>\n",
              "      <td>Notebook</td>\n",
              "      <td>15.6</td>\n",
              "      <td>1366x768</td>\n",
              "      <td>Intel Core i7 6500U 2.5GHz</td>\n",
              "      <td>6GB</td>\n",
              "      <td>1TB HDD</td>\n",
              "      <td>AMD Radeon R5 M330</td>\n",
              "      <td>Windows 10</td>\n",
              "      <td>2.19kg</td>\n",
              "      <td>764.00</td>\n",
              "    </tr>\n",
              "    <tr>\n",
              "      <th>1302</th>\n",
              "      <td>1320</td>\n",
              "      <td>Asus</td>\n",
              "      <td>X553SA-XX031T (N3050/4GB/500GB/W10)</td>\n",
              "      <td>Notebook</td>\n",
              "      <td>15.6</td>\n",
              "      <td>1366x768</td>\n",
              "      <td>Intel Celeron Dual Core N3050 1.6GHz</td>\n",
              "      <td>4GB</td>\n",
              "      <td>500GB HDD</td>\n",
              "      <td>Intel HD Graphics</td>\n",
              "      <td>Windows 10</td>\n",
              "      <td>2.2kg</td>\n",
              "      <td>369.00</td>\n",
              "    </tr>\n",
              "  </tbody>\n",
              "</table>\n",
              "<p>1303 rows × 13 columns</p>\n",
              "</div>"
            ],
            "text/plain": [
              "      laptop_ID Company                              Product  \\\n",
              "0             1   Apple                          MacBook Pro   \n",
              "1             2   Apple                          Macbook Air   \n",
              "2             3      HP                               250 G6   \n",
              "3             4   Apple                          MacBook Pro   \n",
              "4             5   Apple                          MacBook Pro   \n",
              "...         ...     ...                                  ...   \n",
              "1298       1316  Lenovo                       Yoga 500-14ISK   \n",
              "1299       1317  Lenovo                       Yoga 900-13ISK   \n",
              "1300       1318  Lenovo                   IdeaPad 100S-14IBR   \n",
              "1301       1319      HP  15-AC110nv (i7-6500U/6GB/1TB/Radeon   \n",
              "1302       1320    Asus  X553SA-XX031T (N3050/4GB/500GB/W10)   \n",
              "\n",
              "                TypeName  Inches                            ScreenResolution  \\\n",
              "0              Ultrabook    13.3          IPS Panel Retina Display 2560x1600   \n",
              "1              Ultrabook    13.3                                    1440x900   \n",
              "2               Notebook    15.6                           Full HD 1920x1080   \n",
              "3              Ultrabook    15.4          IPS Panel Retina Display 2880x1800   \n",
              "4              Ultrabook    13.3          IPS Panel Retina Display 2560x1600   \n",
              "...                  ...     ...                                         ...   \n",
              "1298  2 in 1 Convertible    14.0   IPS Panel Full HD / Touchscreen 1920x1080   \n",
              "1299  2 in 1 Convertible    13.3  IPS Panel Quad HD+ / Touchscreen 3200x1800   \n",
              "1300            Notebook    14.0                                    1366x768   \n",
              "1301            Notebook    15.6                                    1366x768   \n",
              "1302            Notebook    15.6                                    1366x768   \n",
              "\n",
              "                                       Cpu   Ram               Memory  \\\n",
              "0                     Intel Core i5 2.3GHz   8GB            128GB SSD   \n",
              "1                     Intel Core i5 1.8GHz   8GB  128GB Flash Storage   \n",
              "2               Intel Core i5 7200U 2.5GHz   8GB            256GB SSD   \n",
              "3                     Intel Core i7 2.7GHz  16GB            512GB SSD   \n",
              "4                     Intel Core i5 3.1GHz   8GB            256GB SSD   \n",
              "...                                    ...   ...                  ...   \n",
              "1298            Intel Core i7 6500U 2.5GHz   4GB            128GB SSD   \n",
              "1299            Intel Core i7 6500U 2.5GHz  16GB            512GB SSD   \n",
              "1300  Intel Celeron Dual Core N3050 1.6GHz   2GB   64GB Flash Storage   \n",
              "1301            Intel Core i7 6500U 2.5GHz   6GB              1TB HDD   \n",
              "1302  Intel Celeron Dual Core N3050 1.6GHz   4GB            500GB HDD   \n",
              "\n",
              "                               Gpu       OpSys  Weight  Price_euros  \n",
              "0     Intel Iris Plus Graphics 640       macOS  1.37kg      1339.69  \n",
              "1           Intel HD Graphics 6000       macOS  1.34kg       898.94  \n",
              "2            Intel HD Graphics 620       No OS  1.86kg       575.00  \n",
              "3               AMD Radeon Pro 455       macOS  1.83kg      2537.45  \n",
              "4     Intel Iris Plus Graphics 650       macOS  1.37kg      1803.60  \n",
              "...                            ...         ...     ...          ...  \n",
              "1298         Intel HD Graphics 520  Windows 10   1.8kg       638.00  \n",
              "1299         Intel HD Graphics 520  Windows 10   1.3kg      1499.00  \n",
              "1300             Intel HD Graphics  Windows 10   1.5kg       229.00  \n",
              "1301            AMD Radeon R5 M330  Windows 10  2.19kg       764.00  \n",
              "1302             Intel HD Graphics  Windows 10   2.2kg       369.00  \n",
              "\n",
              "[1303 rows x 13 columns]"
            ]
          },
          "execution_count": 3,
          "metadata": {},
          "output_type": "execute_result"
        }
      ],
      "source": [
        "# Read the dataset from a CSV file\n",
        "df = pd.read_csv(\"laptop_price.csv\", encoding = \"latin-1\")\n",
        "df"
      ]
    },
    {
      "cell_type": "code",
      "execution_count": null,
      "id": "3e529af7-e137-4052-b10b-71d1fd8c54b6",
      "metadata": {
        "pycharm": {
          "name": "#%%\n"
        },
        "id": "3e529af7-e137-4052-b10b-71d1fd8c54b6"
      },
      "outputs": [],
      "source": [
        "# Droping irrelevant column 'Product' will reduces noise\n",
        "df = df.drop(\"Product\", axis=1)\n"
      ]
    },
    {
      "cell_type": "code",
      "execution_count": null,
      "id": "e1ae23f1-a60f-404b-8518-38db703f4b07",
      "metadata": {
        "pycharm": {
          "name": "#%%\n"
        },
        "id": "e1ae23f1-a60f-404b-8518-38db703f4b07"
      },
      "outputs": [],
      "source": [
        "df = df.join(pd.get_dummies(df.Company))\n",
        "# This line creates dummy variables for the 'Company' column using one-hot encoding.\n",
        "# It converts categorical data (company names) into numerical format suitable for machine learning algorithms.\n",
        "\n",
        "df = df.drop(\"Company\", axis=1)\n",
        "\n",
        "# One-hot coding : Technique used to convert categorial data into numerical data."
      ]
    },
    {
      "cell_type": "code",
      "execution_count": null,
      "id": "8911d626-3f17-494e-aea4-08b8a49149dd",
      "metadata": {
        "pycharm": {
          "name": "#%%\n"
        },
        "scrolled": true,
        "id": "8911d626-3f17-494e-aea4-08b8a49149dd",
        "outputId": "9607db6d-2db0-4b39-ac02-b24dcad56dc4"
      },
      "outputs": [
        {
          "data": {
            "text/html": [
              "<div>\n",
              "<style scoped>\n",
              "    .dataframe tbody tr th:only-of-type {\n",
              "        vertical-align: middle;\n",
              "    }\n",
              "\n",
              "    .dataframe tbody tr th {\n",
              "        vertical-align: top;\n",
              "    }\n",
              "\n",
              "    .dataframe thead th {\n",
              "        text-align: right;\n",
              "    }\n",
              "</style>\n",
              "<table border=\"1\" class=\"dataframe\">\n",
              "  <thead>\n",
              "    <tr style=\"text-align: right;\">\n",
              "      <th></th>\n",
              "      <th>laptop_ID</th>\n",
              "      <th>Inches</th>\n",
              "      <th>ScreenResolution</th>\n",
              "      <th>Cpu</th>\n",
              "      <th>Ram</th>\n",
              "      <th>Memory</th>\n",
              "      <th>Gpu</th>\n",
              "      <th>OpSys</th>\n",
              "      <th>Weight</th>\n",
              "      <th>Price_euros</th>\n",
              "      <th>...</th>\n",
              "      <th>Samsung</th>\n",
              "      <th>Toshiba</th>\n",
              "      <th>Vero</th>\n",
              "      <th>Xiaomi</th>\n",
              "      <th>2 in 1 Convertible</th>\n",
              "      <th>Gaming</th>\n",
              "      <th>Netbook</th>\n",
              "      <th>Notebook</th>\n",
              "      <th>Ultrabook</th>\n",
              "      <th>Workstation</th>\n",
              "    </tr>\n",
              "  </thead>\n",
              "  <tbody>\n",
              "    <tr>\n",
              "      <th>0</th>\n",
              "      <td>1</td>\n",
              "      <td>13.3</td>\n",
              "      <td>IPS Panel Retina Display 2560x1600</td>\n",
              "      <td>Intel Core i5 2.3GHz</td>\n",
              "      <td>8GB</td>\n",
              "      <td>128GB SSD</td>\n",
              "      <td>Intel Iris Plus Graphics 640</td>\n",
              "      <td>macOS</td>\n",
              "      <td>1.37kg</td>\n",
              "      <td>1339.69</td>\n",
              "      <td>...</td>\n",
              "      <td>False</td>\n",
              "      <td>False</td>\n",
              "      <td>False</td>\n",
              "      <td>False</td>\n",
              "      <td>False</td>\n",
              "      <td>False</td>\n",
              "      <td>False</td>\n",
              "      <td>False</td>\n",
              "      <td>True</td>\n",
              "      <td>False</td>\n",
              "    </tr>\n",
              "    <tr>\n",
              "      <th>1</th>\n",
              "      <td>2</td>\n",
              "      <td>13.3</td>\n",
              "      <td>1440x900</td>\n",
              "      <td>Intel Core i5 1.8GHz</td>\n",
              "      <td>8GB</td>\n",
              "      <td>128GB Flash Storage</td>\n",
              "      <td>Intel HD Graphics 6000</td>\n",
              "      <td>macOS</td>\n",
              "      <td>1.34kg</td>\n",
              "      <td>898.94</td>\n",
              "      <td>...</td>\n",
              "      <td>False</td>\n",
              "      <td>False</td>\n",
              "      <td>False</td>\n",
              "      <td>False</td>\n",
              "      <td>False</td>\n",
              "      <td>False</td>\n",
              "      <td>False</td>\n",
              "      <td>False</td>\n",
              "      <td>True</td>\n",
              "      <td>False</td>\n",
              "    </tr>\n",
              "    <tr>\n",
              "      <th>2</th>\n",
              "      <td>3</td>\n",
              "      <td>15.6</td>\n",
              "      <td>Full HD 1920x1080</td>\n",
              "      <td>Intel Core i5 7200U 2.5GHz</td>\n",
              "      <td>8GB</td>\n",
              "      <td>256GB SSD</td>\n",
              "      <td>Intel HD Graphics 620</td>\n",
              "      <td>No OS</td>\n",
              "      <td>1.86kg</td>\n",
              "      <td>575.00</td>\n",
              "      <td>...</td>\n",
              "      <td>False</td>\n",
              "      <td>False</td>\n",
              "      <td>False</td>\n",
              "      <td>False</td>\n",
              "      <td>False</td>\n",
              "      <td>False</td>\n",
              "      <td>False</td>\n",
              "      <td>True</td>\n",
              "      <td>False</td>\n",
              "      <td>False</td>\n",
              "    </tr>\n",
              "    <tr>\n",
              "      <th>3</th>\n",
              "      <td>4</td>\n",
              "      <td>15.4</td>\n",
              "      <td>IPS Panel Retina Display 2880x1800</td>\n",
              "      <td>Intel Core i7 2.7GHz</td>\n",
              "      <td>16GB</td>\n",
              "      <td>512GB SSD</td>\n",
              "      <td>AMD Radeon Pro 455</td>\n",
              "      <td>macOS</td>\n",
              "      <td>1.83kg</td>\n",
              "      <td>2537.45</td>\n",
              "      <td>...</td>\n",
              "      <td>False</td>\n",
              "      <td>False</td>\n",
              "      <td>False</td>\n",
              "      <td>False</td>\n",
              "      <td>False</td>\n",
              "      <td>False</td>\n",
              "      <td>False</td>\n",
              "      <td>False</td>\n",
              "      <td>True</td>\n",
              "      <td>False</td>\n",
              "    </tr>\n",
              "    <tr>\n",
              "      <th>4</th>\n",
              "      <td>5</td>\n",
              "      <td>13.3</td>\n",
              "      <td>IPS Panel Retina Display 2560x1600</td>\n",
              "      <td>Intel Core i5 3.1GHz</td>\n",
              "      <td>8GB</td>\n",
              "      <td>256GB SSD</td>\n",
              "      <td>Intel Iris Plus Graphics 650</td>\n",
              "      <td>macOS</td>\n",
              "      <td>1.37kg</td>\n",
              "      <td>1803.60</td>\n",
              "      <td>...</td>\n",
              "      <td>False</td>\n",
              "      <td>False</td>\n",
              "      <td>False</td>\n",
              "      <td>False</td>\n",
              "      <td>False</td>\n",
              "      <td>False</td>\n",
              "      <td>False</td>\n",
              "      <td>False</td>\n",
              "      <td>True</td>\n",
              "      <td>False</td>\n",
              "    </tr>\n",
              "    <tr>\n",
              "      <th>...</th>\n",
              "      <td>...</td>\n",
              "      <td>...</td>\n",
              "      <td>...</td>\n",
              "      <td>...</td>\n",
              "      <td>...</td>\n",
              "      <td>...</td>\n",
              "      <td>...</td>\n",
              "      <td>...</td>\n",
              "      <td>...</td>\n",
              "      <td>...</td>\n",
              "      <td>...</td>\n",
              "      <td>...</td>\n",
              "      <td>...</td>\n",
              "      <td>...</td>\n",
              "      <td>...</td>\n",
              "      <td>...</td>\n",
              "      <td>...</td>\n",
              "      <td>...</td>\n",
              "      <td>...</td>\n",
              "      <td>...</td>\n",
              "      <td>...</td>\n",
              "    </tr>\n",
              "    <tr>\n",
              "      <th>1298</th>\n",
              "      <td>1316</td>\n",
              "      <td>14.0</td>\n",
              "      <td>IPS Panel Full HD / Touchscreen 1920x1080</td>\n",
              "      <td>Intel Core i7 6500U 2.5GHz</td>\n",
              "      <td>4GB</td>\n",
              "      <td>128GB SSD</td>\n",
              "      <td>Intel HD Graphics 520</td>\n",
              "      <td>Windows 10</td>\n",
              "      <td>1.8kg</td>\n",
              "      <td>638.00</td>\n",
              "      <td>...</td>\n",
              "      <td>False</td>\n",
              "      <td>False</td>\n",
              "      <td>False</td>\n",
              "      <td>False</td>\n",
              "      <td>True</td>\n",
              "      <td>False</td>\n",
              "      <td>False</td>\n",
              "      <td>False</td>\n",
              "      <td>False</td>\n",
              "      <td>False</td>\n",
              "    </tr>\n",
              "    <tr>\n",
              "      <th>1299</th>\n",
              "      <td>1317</td>\n",
              "      <td>13.3</td>\n",
              "      <td>IPS Panel Quad HD+ / Touchscreen 3200x1800</td>\n",
              "      <td>Intel Core i7 6500U 2.5GHz</td>\n",
              "      <td>16GB</td>\n",
              "      <td>512GB SSD</td>\n",
              "      <td>Intel HD Graphics 520</td>\n",
              "      <td>Windows 10</td>\n",
              "      <td>1.3kg</td>\n",
              "      <td>1499.00</td>\n",
              "      <td>...</td>\n",
              "      <td>False</td>\n",
              "      <td>False</td>\n",
              "      <td>False</td>\n",
              "      <td>False</td>\n",
              "      <td>True</td>\n",
              "      <td>False</td>\n",
              "      <td>False</td>\n",
              "      <td>False</td>\n",
              "      <td>False</td>\n",
              "      <td>False</td>\n",
              "    </tr>\n",
              "    <tr>\n",
              "      <th>1300</th>\n",
              "      <td>1318</td>\n",
              "      <td>14.0</td>\n",
              "      <td>1366x768</td>\n",
              "      <td>Intel Celeron Dual Core N3050 1.6GHz</td>\n",
              "      <td>2GB</td>\n",
              "      <td>64GB Flash Storage</td>\n",
              "      <td>Intel HD Graphics</td>\n",
              "      <td>Windows 10</td>\n",
              "      <td>1.5kg</td>\n",
              "      <td>229.00</td>\n",
              "      <td>...</td>\n",
              "      <td>False</td>\n",
              "      <td>False</td>\n",
              "      <td>False</td>\n",
              "      <td>False</td>\n",
              "      <td>False</td>\n",
              "      <td>False</td>\n",
              "      <td>False</td>\n",
              "      <td>True</td>\n",
              "      <td>False</td>\n",
              "      <td>False</td>\n",
              "    </tr>\n",
              "    <tr>\n",
              "      <th>1301</th>\n",
              "      <td>1319</td>\n",
              "      <td>15.6</td>\n",
              "      <td>1366x768</td>\n",
              "      <td>Intel Core i7 6500U 2.5GHz</td>\n",
              "      <td>6GB</td>\n",
              "      <td>1TB HDD</td>\n",
              "      <td>AMD Radeon R5 M330</td>\n",
              "      <td>Windows 10</td>\n",
              "      <td>2.19kg</td>\n",
              "      <td>764.00</td>\n",
              "      <td>...</td>\n",
              "      <td>False</td>\n",
              "      <td>False</td>\n",
              "      <td>False</td>\n",
              "      <td>False</td>\n",
              "      <td>False</td>\n",
              "      <td>False</td>\n",
              "      <td>False</td>\n",
              "      <td>True</td>\n",
              "      <td>False</td>\n",
              "      <td>False</td>\n",
              "    </tr>\n",
              "    <tr>\n",
              "      <th>1302</th>\n",
              "      <td>1320</td>\n",
              "      <td>15.6</td>\n",
              "      <td>1366x768</td>\n",
              "      <td>Intel Celeron Dual Core N3050 1.6GHz</td>\n",
              "      <td>4GB</td>\n",
              "      <td>500GB HDD</td>\n",
              "      <td>Intel HD Graphics</td>\n",
              "      <td>Windows 10</td>\n",
              "      <td>2.2kg</td>\n",
              "      <td>369.00</td>\n",
              "      <td>...</td>\n",
              "      <td>False</td>\n",
              "      <td>False</td>\n",
              "      <td>False</td>\n",
              "      <td>False</td>\n",
              "      <td>False</td>\n",
              "      <td>False</td>\n",
              "      <td>False</td>\n",
              "      <td>True</td>\n",
              "      <td>False</td>\n",
              "      <td>False</td>\n",
              "    </tr>\n",
              "  </tbody>\n",
              "</table>\n",
              "<p>1303 rows × 35 columns</p>\n",
              "</div>"
            ],
            "text/plain": [
              "      laptop_ID  Inches                            ScreenResolution  \\\n",
              "0             1    13.3          IPS Panel Retina Display 2560x1600   \n",
              "1             2    13.3                                    1440x900   \n",
              "2             3    15.6                           Full HD 1920x1080   \n",
              "3             4    15.4          IPS Panel Retina Display 2880x1800   \n",
              "4             5    13.3          IPS Panel Retina Display 2560x1600   \n",
              "...         ...     ...                                         ...   \n",
              "1298       1316    14.0   IPS Panel Full HD / Touchscreen 1920x1080   \n",
              "1299       1317    13.3  IPS Panel Quad HD+ / Touchscreen 3200x1800   \n",
              "1300       1318    14.0                                    1366x768   \n",
              "1301       1319    15.6                                    1366x768   \n",
              "1302       1320    15.6                                    1366x768   \n",
              "\n",
              "                                       Cpu   Ram               Memory  \\\n",
              "0                     Intel Core i5 2.3GHz   8GB            128GB SSD   \n",
              "1                     Intel Core i5 1.8GHz   8GB  128GB Flash Storage   \n",
              "2               Intel Core i5 7200U 2.5GHz   8GB            256GB SSD   \n",
              "3                     Intel Core i7 2.7GHz  16GB            512GB SSD   \n",
              "4                     Intel Core i5 3.1GHz   8GB            256GB SSD   \n",
              "...                                    ...   ...                  ...   \n",
              "1298            Intel Core i7 6500U 2.5GHz   4GB            128GB SSD   \n",
              "1299            Intel Core i7 6500U 2.5GHz  16GB            512GB SSD   \n",
              "1300  Intel Celeron Dual Core N3050 1.6GHz   2GB   64GB Flash Storage   \n",
              "1301            Intel Core i7 6500U 2.5GHz   6GB              1TB HDD   \n",
              "1302  Intel Celeron Dual Core N3050 1.6GHz   4GB            500GB HDD   \n",
              "\n",
              "                               Gpu       OpSys  Weight  Price_euros  ...  \\\n",
              "0     Intel Iris Plus Graphics 640       macOS  1.37kg      1339.69  ...   \n",
              "1           Intel HD Graphics 6000       macOS  1.34kg       898.94  ...   \n",
              "2            Intel HD Graphics 620       No OS  1.86kg       575.00  ...   \n",
              "3               AMD Radeon Pro 455       macOS  1.83kg      2537.45  ...   \n",
              "4     Intel Iris Plus Graphics 650       macOS  1.37kg      1803.60  ...   \n",
              "...                            ...         ...     ...          ...  ...   \n",
              "1298         Intel HD Graphics 520  Windows 10   1.8kg       638.00  ...   \n",
              "1299         Intel HD Graphics 520  Windows 10   1.3kg      1499.00  ...   \n",
              "1300             Intel HD Graphics  Windows 10   1.5kg       229.00  ...   \n",
              "1301            AMD Radeon R5 M330  Windows 10  2.19kg       764.00  ...   \n",
              "1302             Intel HD Graphics  Windows 10   2.2kg       369.00  ...   \n",
              "\n",
              "      Samsung  Toshiba   Vero  Xiaomi  2 in 1 Convertible  Gaming  Netbook  \\\n",
              "0       False    False  False   False               False   False    False   \n",
              "1       False    False  False   False               False   False    False   \n",
              "2       False    False  False   False               False   False    False   \n",
              "3       False    False  False   False               False   False    False   \n",
              "4       False    False  False   False               False   False    False   \n",
              "...       ...      ...    ...     ...                 ...     ...      ...   \n",
              "1298    False    False  False   False                True   False    False   \n",
              "1299    False    False  False   False                True   False    False   \n",
              "1300    False    False  False   False               False   False    False   \n",
              "1301    False    False  False   False               False   False    False   \n",
              "1302    False    False  False   False               False   False    False   \n",
              "\n",
              "      Notebook  Ultrabook  Workstation  \n",
              "0        False       True        False  \n",
              "1        False       True        False  \n",
              "2         True      False        False  \n",
              "3        False       True        False  \n",
              "4        False       True        False  \n",
              "...        ...        ...          ...  \n",
              "1298     False      False        False  \n",
              "1299     False      False        False  \n",
              "1300      True      False        False  \n",
              "1301      True      False        False  \n",
              "1302      True      False        False  \n",
              "\n",
              "[1303 rows x 35 columns]"
            ]
          },
          "execution_count": 6,
          "metadata": {},
          "output_type": "execute_result"
        }
      ],
      "source": [
        "df = df.join(pd.get_dummies(df.TypeName))\n",
        "df = df.drop(\"TypeName\", axis=1)\n",
        "df"
      ]
    },
    {
      "cell_type": "markdown",
      "id": "34f11e9e",
      "metadata": {
        "id": "34f11e9e"
      },
      "source": [
        "# Feature Extraction"
      ]
    },
    {
      "cell_type": "code",
      "execution_count": null,
      "id": "91a6b222-8f8c-4cbb-b875-4526329d5870",
      "metadata": {
        "pycharm": {
          "name": "#%%\n"
        },
        "id": "91a6b222-8f8c-4cbb-b875-4526329d5870"
      },
      "outputs": [],
      "source": [
        "# Extracting Last element of split string.(ScreenResolution)\n",
        "df[\"ScreenResolution\"] = df.ScreenResolution.str.split(\" \").apply(lambda x: x[-1])\n",
        "\n",
        "# Extracting Screen Width and Height\n",
        "df[\"Screen Width\"] = df.ScreenResolution.str.split(\"x\").apply(lambda x: x[0])\n",
        "df[\"Screen Height\"] = df.ScreenResolution.str.split(\"x\").apply(lambda x: x[1])"
      ]
    },
    {
      "cell_type": "code",
      "execution_count": null,
      "id": "10b89246-bf9b-4d82-a1d1-37c3fcd1f90e",
      "metadata": {
        "pycharm": {
          "name": "#%%\n"
        },
        "id": "10b89246-bf9b-4d82-a1d1-37c3fcd1f90e"
      },
      "outputs": [],
      "source": [
        "df = df.drop(\"ScreenResolution\", axis=1)"
      ]
    },
    {
      "cell_type": "code",
      "execution_count": null,
      "id": "67444bb8-bee1-40d6-b09b-72772313e2d3",
      "metadata": {
        "pycharm": {
          "name": "#%%\n"
        },
        "id": "67444bb8-bee1-40d6-b09b-72772313e2d3"
      },
      "outputs": [],
      "source": [
        "# Extracting Features like CPU Brand,CPU Frequency from Column CPU\n",
        "df[\"CPU Brand\"] = df.Cpu.str.split(\" \").apply(lambda x: x[0])\n",
        "df[\"CPU Frequency\"] = df.Cpu.str.split(\" \").apply(lambda x: x[-1])"
      ]
    },
    {
      "cell_type": "code",
      "execution_count": null,
      "id": "b315d52f-14f3-4f14-80ed-476116f1486d",
      "metadata": {
        "pycharm": {
          "name": "#%%\n"
        },
        "id": "b315d52f-14f3-4f14-80ed-476116f1486d"
      },
      "outputs": [],
      "source": [
        "df = df.drop(\"Cpu\", axis=1)"
      ]
    },
    {
      "cell_type": "code",
      "execution_count": null,
      "id": "17b95b69-9cf0-4161-be3f-f85aa8a90845",
      "metadata": {
        "pycharm": {
          "name": "#%%\n"
        },
        "id": "17b95b69-9cf0-4161-be3f-f85aa8a90845"
      },
      "outputs": [],
      "source": [
        "df[\"CPU Frequency\"] = df[\"CPU Frequency\"].str[:-3]"
      ]
    },
    {
      "cell_type": "code",
      "execution_count": null,
      "id": "fad09ab0-4990-4261-9e56-e0090b5e870d",
      "metadata": {
        "pycharm": {
          "name": "#%%\n"
        },
        "id": "fad09ab0-4990-4261-9e56-e0090b5e870d"
      },
      "outputs": [],
      "source": [
        "df[\"Ram\"] = df[\"Ram\"].str[:-2]"
      ]
    },
    {
      "cell_type": "code",
      "execution_count": null,
      "id": "f861d7a4-62ac-47d5-8198-ec1d4d00f58b",
      "metadata": {
        "pycharm": {
          "name": "#%%\n"
        },
        "id": "f861d7a4-62ac-47d5-8198-ec1d4d00f58b"
      },
      "outputs": [],
      "source": [
        "df[\"Ram\"] = df[\"Ram\"].astype(\"int\") # Data type Conversion\n",
        "df[\"CPU Frequency\"] = df[\"CPU Frequency\"].astype(\"float\") # Data type Conversion"
      ]
    },
    {
      "cell_type": "code",
      "execution_count": null,
      "id": "4a6c7f3f-5c77-4002-8334-349134e6ecc5",
      "metadata": {
        "pycharm": {
          "name": "#%%\n"
        },
        "id": "4a6c7f3f-5c77-4002-8334-349134e6ecc5"
      },
      "outputs": [],
      "source": [
        "df[\"Screen Width\"] = df[\"Screen Width\"].astype(\"int\") # Data type Conversion\n",
        "df[\"Screen Height\"] = df[\"Screen Height\"].astype(\"int\") # Data type Conversion"
      ]
    },
    {
      "cell_type": "code",
      "execution_count": null,
      "id": "7e3a6402-5920-462a-a302-3d1fff057bf3",
      "metadata": {
        "pycharm": {
          "name": "#%%\n"
        },
        "id": "7e3a6402-5920-462a-a302-3d1fff057bf3"
      },
      "outputs": [],
      "source": [
        "# Extract memory amount and memory type from 'Memory' column\n",
        "df[\"Memory Amount\"] = df.Memory.str.split(\" \").apply(lambda x: x[0])\n",
        "df[\"Memory Type\"] = df.Memory.str.split(\" \").apply(lambda x: x[1])"
      ]
    },
    {
      "cell_type": "code",
      "execution_count": null,
      "id": "8684eaf5-b647-4594-b836-92f8f09f6aba",
      "metadata": {
        "pycharm": {
          "name": "#%%\n"
        },
        "id": "8684eaf5-b647-4594-b836-92f8f09f6aba"
      },
      "outputs": [],
      "source": [
        "# Function to convert memory amount to MB\n",
        "def turn_memory_into_MB(value):\n",
        "    if \"GB\" in value:\n",
        "        return float(value[:value.find(\"GB\")]) * 1000\n",
        "    elif \"TB\" in value:\n",
        "        return float(value[:value.find(\"TB\")]) * 1000000"
      ]
    },
    {
      "cell_type": "code",
      "execution_count": null,
      "id": "712adc60-d0e3-4f94-9cf0-49b025f996b5",
      "metadata": {
        "pycharm": {
          "name": "#%%\n"
        },
        "id": "712adc60-d0e3-4f94-9cf0-49b025f996b5"
      },
      "outputs": [],
      "source": [
        "df[\"Memory Amount\"] = df[\"Memory Amount\"].apply(turn_memory_into_MB)"
      ]
    },
    {
      "cell_type": "code",
      "execution_count": null,
      "id": "8f8bac7f-0d11-43c5-bfa3-bdffd77342c1",
      "metadata": {
        "pycharm": {
          "name": "#%%\n"
        },
        "id": "8f8bac7f-0d11-43c5-bfa3-bdffd77342c1"
      },
      "outputs": [],
      "source": [
        "df = df.drop(\"Memory\", axis=1)"
      ]
    },
    {
      "cell_type": "code",
      "execution_count": null,
      "id": "61750607-0c95-460c-96c0-6d6c3209539b",
      "metadata": {
        "pycharm": {
          "name": "#%%\n"
        },
        "id": "61750607-0c95-460c-96c0-6d6c3209539b"
      },
      "outputs": [],
      "source": [
        "# Convert weight to float\n",
        "df[\"Weight\"] = df[\"Weight\"].str[:-2]"
      ]
    },
    {
      "cell_type": "code",
      "execution_count": null,
      "id": "f1ec9553-3575-427b-80a5-9bdf9674beb5",
      "metadata": {
        "pycharm": {
          "name": "#%%\n"
        },
        "id": "f1ec9553-3575-427b-80a5-9bdf9674beb5"
      },
      "outputs": [],
      "source": [
        "df[\"Weight\"] = df[\"Weight\"].astype(\"float\") # Data type Conversion"
      ]
    },
    {
      "cell_type": "code",
      "execution_count": null,
      "id": "86e910bf-7231-4e23-92b5-488203c46293",
      "metadata": {
        "pycharm": {
          "name": "#%%\n"
        },
        "id": "86e910bf-7231-4e23-92b5-488203c46293"
      },
      "outputs": [],
      "source": [
        "# Extract GPU brand and perform one-hot encoding\n",
        "df[\"GPU Brand\"] = df.Gpu.str.split(\" \").apply(lambda x: x[0])"
      ]
    },
    {
      "cell_type": "code",
      "execution_count": null,
      "id": "6522ff7a-5e73-4d94-93cc-96f4a215255e",
      "metadata": {
        "pycharm": {
          "name": "#%%\n"
        },
        "id": "6522ff7a-5e73-4d94-93cc-96f4a215255e"
      },
      "outputs": [],
      "source": [
        "df = df.drop(\"Gpu\", axis=1)"
      ]
    },
    {
      "cell_type": "code",
      "execution_count": null,
      "id": "4a86ab81-1d09-4d61-bfb6-84ee78ea6c80",
      "metadata": {
        "pycharm": {
          "name": "#%%\n"
        },
        "id": "4a86ab81-1d09-4d61-bfb6-84ee78ea6c80"
      },
      "outputs": [],
      "source": [
        "# One-Hot Encoding (Catagorical to numerical data conversion)\n",
        "df = df.join(pd.get_dummies(df.OpSys))\n",
        "df = df.drop(\"OpSys\", axis=1)"
      ]
    },
    {
      "cell_type": "code",
      "execution_count": null,
      "id": "a7c4ef2d-0193-49f4-b155-c1a2b8668c07",
      "metadata": {
        "pycharm": {
          "name": "#%%\n"
        },
        "id": "a7c4ef2d-0193-49f4-b155-c1a2b8668c07"
      },
      "outputs": [],
      "source": [
        "# Create dummy variables for CPU.\n",
        "cpu_categories = pd.get_dummies(df[\"CPU Brand\"])\n",
        "cpu_categories.columns = [col + \"_CPU\" for col in cpu_categories.columns]\n",
        "\n",
        "df = df.join(cpu_categories)\n",
        "df = df.drop(\"CPU Brand\", axis=1)"
      ]
    },
    {
      "cell_type": "code",
      "execution_count": null,
      "id": "fa16917d-8f14-4fa3-893d-75a8968e8495",
      "metadata": {
        "pycharm": {
          "name": "#%%\n"
        },
        "id": "fa16917d-8f14-4fa3-893d-75a8968e8495"
      },
      "outputs": [],
      "source": [
        "#  Create dummy variables for GPU.\n",
        "gpu_categories = pd.get_dummies(df[\"GPU Brand\"])\n",
        "gpu_categories.columns = [col + \"_GPU\" for col in gpu_categories.columns]\n",
        "\n",
        "df = df.join(gpu_categories)\n",
        "df = df.drop(\"GPU Brand\", axis=1)"
      ]
    },
    {
      "cell_type": "code",
      "execution_count": null,
      "id": "ab933aa8-16b5-469d-b650-71991edaacce",
      "metadata": {
        "pycharm": {
          "name": "#%%\n"
        },
        "id": "ab933aa8-16b5-469d-b650-71991edaacce",
        "outputId": "8d9ec398-3f7d-4938-a344-a2f8703a2b43"
      },
      "outputs": [
        {
          "data": {
            "text/plain": [
              "<Figure size 1800x1500 with 0 Axes>"
            ]
          },
          "execution_count": 26,
          "metadata": {},
          "output_type": "execute_result"
        },
        {
          "data": {
            "text/plain": [
              "<Figure size 1800x1500 with 0 Axes>"
            ]
          },
          "metadata": {},
          "output_type": "display_data"
        }
      ],
      "source": [
        "# Importing Visualization Libraries like seaborn and matplotlib.\n",
        "\n",
        "import seaborn as sns\n",
        "import matplotlib.pyplot as plt\n",
        "\n",
        "numeric_df = df.select_dtypes(include=['float64', 'int64'])\n",
        "\n",
        "plt.figure(figsize=(18, 15))"
      ]
    },
    {
      "cell_type": "code",
      "execution_count": null,
      "id": "8cf07860",
      "metadata": {
        "id": "8cf07860",
        "outputId": "f279f959-3284-45c0-934d-02378f8ea40a"
      },
      "outputs": [
        {
          "data": {
            "image/png": "[encoded data removed]",
            "text/plain": [
              "<Figure size 640x480 with 2 Axes>"
            ]
          },
          "metadata": {},
          "output_type": "display_data"
        }
      ],
      "source": [
        "# Select only numeric columns\n",
        "numeric_df = df.select_dtypes(include=['number'])\n",
        "\n",
        "# Compute the correlation matrix\n",
        "correlation_matrix = numeric_df.corr()\n",
        "\n",
        "# Plot the heatmap\n",
        "sns.heatmap(numeric_df.corr(), annot=True, cmap=\"YlGnBu\")\n",
        "plt.show()\n"
      ]
    },
    {
      "cell_type": "code",
      "execution_count": null,
      "id": "35a00ed5-7f60-46f8-b292-7db21f80463a",
      "metadata": {
        "pycharm": {
          "name": "#%%\n"
        },
        "id": "35a00ed5-7f60-46f8-b292-7db21f80463a"
      },
      "outputs": [],
      "source": [
        "target_correlations = correlation_matrix['Price_euros'].apply(abs).sort_values"
      ]
    },
    {
      "cell_type": "code",
      "execution_count": null,
      "id": "1150aaad",
      "metadata": {
        "id": "1150aaad",
        "outputId": "aad0ce9d-bae5-4708-c7f8-802fc87183ac"
      },
      "outputs": [
        {
          "data": {
            "text/plain": [
              "<bound method Series.sort_values of laptop_ID        0.067830\n",
              "Inches           0.068197\n",
              "Ram              0.743007\n",
              "Weight           0.210370\n",
              "Price_euros      1.000000\n",
              "Screen Width     0.556529\n",
              "Screen Height    0.552809\n",
              "CPU Frequency    0.430293\n",
              "Memory Amount    0.122365\n",
              "Name: Price_euros, dtype: float64>"
            ]
          },
          "execution_count": 29,
          "metadata": {},
          "output_type": "execute_result"
        }
      ],
      "source": [
        "target_correlations"
      ]
    },
    {
      "cell_type": "code",
      "execution_count": null,
      "id": "442ba807-6593-4177-a803-8003e01b0a5b",
      "metadata": {
        "pycharm": {
          "name": "#%%\n"
        },
        "id": "442ba807-6593-4177-a803-8003e01b0a5b"
      },
      "outputs": [],
      "source": [
        "# Select features based on correlation with target variable\n",
        "selected_features = target_correlations().sort_values(ascending=False).head(21).index"
      ]
    },
    {
      "cell_type": "code",
      "execution_count": null,
      "id": "2ea3bb3f-7545-4268-be3e-3cef57f91107",
      "metadata": {
        "pycharm": {
          "name": "#%%\n"
        },
        "id": "2ea3bb3f-7545-4268-be3e-3cef57f91107"
      },
      "outputs": [],
      "source": [
        "selected_features = list(selected_features)"
      ]
    },
    {
      "cell_type": "code",
      "execution_count": null,
      "id": "66eaeb04-e9e9-4e3d-a48a-cb1ba7de947b",
      "metadata": {
        "pycharm": {
          "name": "#%%\n"
        },
        "id": "66eaeb04-e9e9-4e3d-a48a-cb1ba7de947b",
        "outputId": "2914b785-af2a-45ec-a4fe-a087c9a987f1"
      },
      "outputs": [
        {
          "data": {
            "text/plain": [
              "['Price_euros',\n",
              " 'Ram',\n",
              " 'Screen Width',\n",
              " 'Screen Height',\n",
              " 'CPU Frequency',\n",
              " 'Weight',\n",
              " 'Memory Amount',\n",
              " 'Inches',\n",
              " 'laptop_ID']"
            ]
          },
          "execution_count": 32,
          "metadata": {},
          "output_type": "execute_result"
        }
      ],
      "source": [
        "selected_features"
      ]
    },
    {
      "cell_type": "code",
      "execution_count": null,
      "id": "a120716a-dfbd-4367-875e-d2525988c0fa",
      "metadata": {
        "pycharm": {
          "name": "#%%\n"
        },
        "id": "a120716a-dfbd-4367-875e-d2525988c0fa"
      },
      "outputs": [],
      "source": [
        "limited_df = df[selected_features]"
      ]
    },
    {
      "cell_type": "code",
      "execution_count": null,
      "id": "d11e35af-d00a-4443-b11c-5b081ab43c17",
      "metadata": {
        "pycharm": {
          "name": "#%%\n"
        },
        "id": "d11e35af-d00a-4443-b11c-5b081ab43c17",
        "outputId": "325b2dbe-44e2-493b-defd-d2af2f43cc6b"
      },
      "outputs": [
        {
          "data": {
            "text/html": [
              "<div>\n",
              "<style scoped>\n",
              "    .dataframe tbody tr th:only-of-type {\n",
              "        vertical-align: middle;\n",
              "    }\n",
              "\n",
              "    .dataframe tbody tr th {\n",
              "        vertical-align: top;\n",
              "    }\n",
              "\n",
              "    .dataframe thead th {\n",
              "        text-align: right;\n",
              "    }\n",
              "</style>\n",
              "<table border=\"1\" class=\"dataframe\">\n",
              "  <thead>\n",
              "    <tr style=\"text-align: right;\">\n",
              "      <th></th>\n",
              "      <th>Price_euros</th>\n",
              "      <th>Ram</th>\n",
              "      <th>Screen Width</th>\n",
              "      <th>Screen Height</th>\n",
              "      <th>CPU Frequency</th>\n",
              "      <th>Weight</th>\n",
              "      <th>Memory Amount</th>\n",
              "      <th>Inches</th>\n",
              "      <th>laptop_ID</th>\n",
              "    </tr>\n",
              "  </thead>\n",
              "  <tbody>\n",
              "    <tr>\n",
              "      <th>0</th>\n",
              "      <td>1339.69</td>\n",
              "      <td>8</td>\n",
              "      <td>2560</td>\n",
              "      <td>1600</td>\n",
              "      <td>2.3</td>\n",
              "      <td>1.37</td>\n",
              "      <td>128000.0</td>\n",
              "      <td>13.3</td>\n",
              "      <td>1</td>\n",
              "    </tr>\n",
              "    <tr>\n",
              "      <th>1</th>\n",
              "      <td>898.94</td>\n",
              "      <td>8</td>\n",
              "      <td>1440</td>\n",
              "      <td>900</td>\n",
              "      <td>1.8</td>\n",
              "      <td>1.34</td>\n",
              "      <td>128000.0</td>\n",
              "      <td>13.3</td>\n",
              "      <td>2</td>\n",
              "    </tr>\n",
              "    <tr>\n",
              "      <th>2</th>\n",
              "      <td>575.00</td>\n",
              "      <td>8</td>\n",
              "      <td>1920</td>\n",
              "      <td>1080</td>\n",
              "      <td>2.5</td>\n",
              "      <td>1.86</td>\n",
              "      <td>256000.0</td>\n",
              "      <td>15.6</td>\n",
              "      <td>3</td>\n",
              "    </tr>\n",
              "    <tr>\n",
              "      <th>3</th>\n",
              "      <td>2537.45</td>\n",
              "      <td>16</td>\n",
              "      <td>2880</td>\n",
              "      <td>1800</td>\n",
              "      <td>2.7</td>\n",
              "      <td>1.83</td>\n",
              "      <td>512000.0</td>\n",
              "      <td>15.4</td>\n",
              "      <td>4</td>\n",
              "    </tr>\n",
              "    <tr>\n",
              "      <th>4</th>\n",
              "      <td>1803.60</td>\n",
              "      <td>8</td>\n",
              "      <td>2560</td>\n",
              "      <td>1600</td>\n",
              "      <td>3.1</td>\n",
              "      <td>1.37</td>\n",
              "      <td>256000.0</td>\n",
              "      <td>13.3</td>\n",
              "      <td>5</td>\n",
              "    </tr>\n",
              "    <tr>\n",
              "      <th>...</th>\n",
              "      <td>...</td>\n",
              "      <td>...</td>\n",
              "      <td>...</td>\n",
              "      <td>...</td>\n",
              "      <td>...</td>\n",
              "      <td>...</td>\n",
              "      <td>...</td>\n",
              "      <td>...</td>\n",
              "      <td>...</td>\n",
              "    </tr>\n",
              "    <tr>\n",
              "      <th>1298</th>\n",
              "      <td>638.00</td>\n",
              "      <td>4</td>\n",
              "      <td>1920</td>\n",
              "      <td>1080</td>\n",
              "      <td>2.5</td>\n",
              "      <td>1.80</td>\n",
              "      <td>128000.0</td>\n",
              "      <td>14.0</td>\n",
              "      <td>1316</td>\n",
              "    </tr>\n",
              "    <tr>\n",
              "      <th>1299</th>\n",
              "      <td>1499.00</td>\n",
              "      <td>16</td>\n",
              "      <td>3200</td>\n",
              "      <td>1800</td>\n",
              "      <td>2.5</td>\n",
              "      <td>1.30</td>\n",
              "      <td>512000.0</td>\n",
              "      <td>13.3</td>\n",
              "      <td>1317</td>\n",
              "    </tr>\n",
              "    <tr>\n",
              "      <th>1300</th>\n",
              "      <td>229.00</td>\n",
              "      <td>2</td>\n",
              "      <td>1366</td>\n",
              "      <td>768</td>\n",
              "      <td>1.6</td>\n",
              "      <td>1.50</td>\n",
              "      <td>64000.0</td>\n",
              "      <td>14.0</td>\n",
              "      <td>1318</td>\n",
              "    </tr>\n",
              "    <tr>\n",
              "      <th>1301</th>\n",
              "      <td>764.00</td>\n",
              "      <td>6</td>\n",
              "      <td>1366</td>\n",
              "      <td>768</td>\n",
              "      <td>2.5</td>\n",
              "      <td>2.19</td>\n",
              "      <td>1000000.0</td>\n",
              "      <td>15.6</td>\n",
              "      <td>1319</td>\n",
              "    </tr>\n",
              "    <tr>\n",
              "      <th>1302</th>\n",
              "      <td>369.00</td>\n",
              "      <td>4</td>\n",
              "      <td>1366</td>\n",
              "      <td>768</td>\n",
              "      <td>1.6</td>\n",
              "      <td>2.20</td>\n",
              "      <td>500000.0</td>\n",
              "      <td>15.6</td>\n",
              "      <td>1320</td>\n",
              "    </tr>\n",
              "  </tbody>\n",
              "</table>\n",
              "<p>1303 rows × 9 columns</p>\n",
              "</div>"
            ],
            "text/plain": [
              "      Price_euros  Ram  Screen Width  Screen Height  CPU Frequency  Weight  \\\n",
              "0         1339.69    8          2560           1600            2.3    1.37   \n",
              "1          898.94    8          1440            900            1.8    1.34   \n",
              "2          575.00    8          1920           1080            2.5    1.86   \n",
              "3         2537.45   16          2880           1800            2.7    1.83   \n",
              "4         1803.60    8          2560           1600            3.1    1.37   \n",
              "...           ...  ...           ...            ...            ...     ...   \n",
              "1298       638.00    4          1920           1080            2.5    1.80   \n",
              "1299      1499.00   16          3200           1800            2.5    1.30   \n",
              "1300       229.00    2          1366            768            1.6    1.50   \n",
              "1301       764.00    6          1366            768            2.5    2.19   \n",
              "1302       369.00    4          1366            768            1.6    2.20   \n",
              "\n",
              "      Memory Amount  Inches  laptop_ID  \n",
              "0          128000.0    13.3          1  \n",
              "1          128000.0    13.3          2  \n",
              "2          256000.0    15.6          3  \n",
              "3          512000.0    15.4          4  \n",
              "4          256000.0    13.3          5  \n",
              "...             ...     ...        ...  \n",
              "1298       128000.0    14.0       1316  \n",
              "1299       512000.0    13.3       1317  \n",
              "1300        64000.0    14.0       1318  \n",
              "1301      1000000.0    15.6       1319  \n",
              "1302       500000.0    15.6       1320  \n",
              "\n",
              "[1303 rows x 9 columns]"
            ]
          },
          "execution_count": 34,
          "metadata": {},
          "output_type": "execute_result"
        }
      ],
      "source": [
        "limited_df"
      ]
    },
    {
      "cell_type": "code",
      "execution_count": null,
      "id": "3f368c1a-3273-4b99-aea8-8548170d85d0",
      "metadata": {
        "pycharm": {
          "name": "#%%\n"
        },
        "id": "3f368c1a-3273-4b99-aea8-8548170d85d0",
        "outputId": "01fc1db7-31aa-48bd-c811-440d12b165a9"
      },
      "outputs": [
        {
          "data": {
            "text/plain": [
              "<Axes: >"
            ]
          },
          "execution_count": 35,
          "metadata": {},
          "output_type": "execute_result"
        },
        {
          "data": {
            "image/png": "[encoded data removed]",
            "text/plain": [
              "<Figure size 1800x1500 with 2 Axes>"
            ]
          },
          "metadata": {},
          "output_type": "display_data"
        }
      ],
      "source": [
        "# Ploting the correlation matrix for selected features\n",
        "plt.figure(figsize=(18, 15))\n",
        "sns.heatmap(limited_df.corr(), annot=True, cmap=\"YlGnBu\")"
      ]
    },
    {
      "cell_type": "code",
      "execution_count": null,
      "id": "8c9a470f-a2a2-4a42-b0c1-ed50fd65c8a0",
      "metadata": {
        "pycharm": {
          "name": "#%%\n"
        },
        "id": "8c9a470f-a2a2-4a42-b0c1-ed50fd65c8a0"
      },
      "outputs": [],
      "source": [
        "#Model Training and evaluation\n",
        "\n",
        "from sklearn.preprocessing import StandardScaler\n",
        "from sklearn.model_selection import train_test_split\n",
        "from sklearn.ensemble import RandomForestRegressor\n",
        "\n",
        "# Split the data into training and testing sets\n",
        "X, y = limited_df.drop(\"Price_euros\", axis=1), limited_df[\"Price_euros\"]\n",
        "\n",
        "X_train, X_test, y_train, y_test = train_test_split(X, y, test_size=0.15)\n",
        "\n",
        "# Standardize the features\n",
        "scaler = StandardScaler()\n",
        "\n",
        "X_train_scaled = scaler.fit_transform(X_train)\n",
        "X_test_scaled = scaler.transform(X_test)"
      ]
    },
    {
      "cell_type": "code",
      "execution_count": null,
      "id": "f1f2287a-2b50-4460-a006-5510a74348cd",
      "metadata": {
        "pycharm": {
          "name": "#%%\n"
        },
        "id": "f1f2287a-2b50-4460-a006-5510a74348cd",
        "outputId": "c8867dcb-e721-48f5-9c2d-9af1665da7ba"
      },
      "outputs": [
        {
          "data": {
            "text/html": [
              "<style>#sk-container-id-1 {color: black;}#sk-container-id-1 pre{padding: 0;}#sk-container-id-1 div.sk-toggleable {background-color: white;}#sk-container-id-1 label.sk-toggleable__label {cursor: pointer;display: block;width: 100%;margin-bottom: 0;padding: 0.3em;box-sizing: border-box;text-align: center;}#sk-container-id-1 label.sk-toggleable__label-arrow:before {content: \"▸\";float: left;margin-right: 0.25em;color: #696969;}#sk-container-id-1 label.sk-toggleable__label-arrow:hover:before {color: black;}#sk-container-id-1 div.sk-estimator:hover label.sk-toggleable__label-arrow:before {color: black;}#sk-container-id-1 div.sk-toggleable__content {max-height: 0;max-width: 0;overflow: hidden;text-align: left;background-color: #f0f8ff;}#sk-container-id-1 div.sk-toggleable__content pre {margin: 0.2em;color: black;border-radius: 0.25em;background-color: #f0f8ff;}#sk-container-id-1 input.sk-toggleable__control:checked~div.sk-toggleable__content {max-height: 200px;max-width: 100%;overflow: auto;}#sk-container-id-1 input.sk-toggleable__control:checked~label.sk-toggleable__label-arrow:before {content: \"▾\";}#sk-container-id-1 div.sk-estimator input.sk-toggleable__control:checked~label.sk-toggleable__label {background-color: #d4ebff;}#sk-container-id-1 div.sk-label input.sk-toggleable__control:checked~label.sk-toggleable__label {background-color: #d4ebff;}#sk-container-id-1 input.sk-hidden--visually {border: 0;clip: rect(1px 1px 1px 1px);clip: rect(1px, 1px, 1px, 1px);height: 1px;margin: -1px;overflow: hidden;padding: 0;position: absolute;width: 1px;}#sk-container-id-1 div.sk-estimator {font-family: monospace;background-color: #f0f8ff;border: 1px dotted black;border-radius: 0.25em;box-sizing: border-box;margin-bottom: 0.5em;}#sk-container-id-1 div.sk-estimator:hover {background-color: #d4ebff;}#sk-container-id-1 div.sk-parallel-item::after {content: \"\";width: 100%;border-bottom: 1px solid gray;flex-grow: 1;}#sk-container-id-1 div.sk-label:hover label.sk-toggleable__label {background-color: #d4ebff;}#sk-container-id-1 div.sk-serial::before {content: \"\";position: absolute;border-left: 1px solid gray;box-sizing: border-box;top: 0;bottom: 0;left: 50%;z-index: 0;}#sk-container-id-1 div.sk-serial {display: flex;flex-direction: column;align-items: center;background-color: white;padding-right: 0.2em;padding-left: 0.2em;position: relative;}#sk-container-id-1 div.sk-item {position: relative;z-index: 1;}#sk-container-id-1 div.sk-parallel {display: flex;align-items: stretch;justify-content: center;background-color: white;position: relative;}#sk-container-id-1 div.sk-item::before, #sk-container-id-1 div.sk-parallel-item::before {content: \"\";position: absolute;border-left: 1px solid gray;box-sizing: border-box;top: 0;bottom: 0;left: 50%;z-index: -1;}#sk-container-id-1 div.sk-parallel-item {display: flex;flex-direction: column;z-index: 1;position: relative;background-color: white;}#sk-container-id-1 div.sk-parallel-item:first-child::after {align-self: flex-end;width: 50%;}#sk-container-id-1 div.sk-parallel-item:last-child::after {align-self: flex-start;width: 50%;}#sk-container-id-1 div.sk-parallel-item:only-child::after {width: 0;}#sk-container-id-1 div.sk-dashed-wrapped {border: 1px dashed gray;margin: 0 0.4em 0.5em 0.4em;box-sizing: border-box;padding-bottom: 0.4em;background-color: white;}#sk-container-id-1 div.sk-label label {font-family: monospace;font-weight: bold;display: inline-block;line-height: 1.2em;}#sk-container-id-1 div.sk-label-container {text-align: center;}#sk-container-id-1 div.sk-container {/* jupyter's `normalize.less` sets `[hidden] { display: none; }` but bootstrap.min.css set `[hidden] { display: none !important; }` so we also need the `!important` here to be able to override the default hidden behavior on the sphinx rendered scikit-learn.org. See: https://github.com/scikit-learn/scikit-learn/issues/21755 */display: inline-block !important;position: relative;}#sk-container-id-1 div.sk-text-repr-fallback {display: none;}</style><div id=\"sk-container-id-1\" class=\"sk-top-container\"><div class=\"sk-text-repr-fallback\"><pre>RandomForestRegressor()</pre><b>In a Jupyter environment, please rerun this cell to show the HTML representation or trust the notebook. <br />On GitHub, the HTML representation is unable to render, please try loading this page with nbviewer.org.</b></div><div class=\"sk-container\" hidden><div class=\"sk-item\"><div class=\"sk-estimator sk-toggleable\"><input class=\"sk-toggleable__control sk-hidden--visually\" id=\"sk-estimator-id-1\" type=\"checkbox\" checked><label for=\"sk-estimator-id-1\" class=\"sk-toggleable__label sk-toggleable__label-arrow\">RandomForestRegressor</label><div class=\"sk-toggleable__content\"><pre>RandomForestRegressor()</pre></div></div></div></div></div>"
            ],
            "text/plain": [
              "RandomForestRegressor()"
            ]
          },
          "execution_count": 37,
          "metadata": {},
          "output_type": "execute_result"
        }
      ],
      "source": [
        "# Train a Random Forest Regressor model\n",
        "\n",
        "forest = RandomForestRegressor()\n",
        "forest.fit(X_train_scaled, y_train)"
      ]
    },
    {
      "cell_type": "code",
      "execution_count": null,
      "id": "1de995b8-8376-4de7-8932-507082588116",
      "metadata": {
        "pycharm": {
          "name": "#%%\n"
        },
        "id": "1de995b8-8376-4de7-8932-507082588116",
        "outputId": "9458d60c-ef3e-4dc5-9cea-230bf5bd0f41"
      },
      "outputs": [
        {
          "data": {
            "text/plain": [
              "0.7818609873622487"
            ]
          },
          "execution_count": 38,
          "metadata": {},
          "output_type": "execute_result"
        }
      ],
      "source": [
        "# Testing\n",
        "forest.score(X_test_scaled, y_test)"
      ]
    },
    {
      "cell_type": "code",
      "execution_count": null,
      "id": "b14b82ca-40f5-43a0-bfab-8c285c7b4bcc",
      "metadata": {
        "pycharm": {
          "name": "#%%\n"
        },
        "id": "b14b82ca-40f5-43a0-bfab-8c285c7b4bcc"
      },
      "outputs": [],
      "source": [
        "# Predicting laptop prices and evaluate the model\n",
        "y_pred = forest.predict(X_test_scaled)"
      ]
    },
    {
      "cell_type": "code",
      "execution_count": null,
      "id": "ae42a428-707a-4143-ae11-940b72dbd633",
      "metadata": {
        "pycharm": {
          "name": "#%%\n"
        },
        "id": "ae42a428-707a-4143-ae11-940b72dbd633",
        "outputId": "52416ded-1acb-4c5a-87b5-c7b3624db980"
      },
      "outputs": [
        {
          "data": {
            "text/plain": [
              "[<matplotlib.lines.Line2D at 0x1879c62cb90>]"
            ]
          },
          "execution_count": 40,
          "metadata": {},
          "output_type": "execute_result"
        },
        {
          "data": {
            "image/png": "[encoded data removed]",
            "text/plain": [
              "<Figure size 1200x800 with 1 Axes>"
            ]
          },
          "metadata": {},
          "output_type": "display_data"
        }
      ],
      "source": [
        "plt.figure(figsize=(12, 8))\n",
        "plt.scatter(y_pred, y_test)\n",
        "plt.plot(range(0, 6000), range(0, 6000), c=\"red\")\n"
      ]
    },
    {
      "cell_type": "code",
      "execution_count": null,
      "id": "a6b85bf8-41f1-4c01-bf79-26e45427f7a4",
      "metadata": {
        "pycharm": {
          "name": "#%%\n"
        },
        "id": "a6b85bf8-41f1-4c01-bf79-26e45427f7a4",
        "outputId": "bbd6a051-0cb6-4efd-d297-62bcc4860500"
      },
      "outputs": [
        {
          "name": "stderr",
          "output_type": "stream",
          "text": [
            "C:\\ProgramData\\anaconda3\\Lib\\site-packages\\sklearn\\base.py:464: UserWarning: X does not have valid feature names, but StandardScaler was fitted with feature names\n",
            "  warnings.warn(\n"
          ]
        }
      ],
      "source": [
        "X_new_scaled = scaler.transform([X_test.iloc[0]])"
      ]
    },
    {
      "cell_type": "code",
      "execution_count": null,
      "id": "9edb82a2-58ed-4be8-b33b-a39b6b2b5e17",
      "metadata": {
        "pycharm": {
          "name": "#%%\n"
        },
        "id": "9edb82a2-58ed-4be8-b33b-a39b6b2b5e17",
        "outputId": "13fb018b-4e07-4d2d-832d-0fe4d68d4786"
      },
      "outputs": [
        {
          "data": {
            "text/plain": [
              "array([255.4099])"
            ]
          },
          "execution_count": 42,
          "metadata": {},
          "output_type": "execute_result"
        }
      ],
      "source": [
        "# Predicting a laptop price\n",
        "forest.predict(X_new_scaled)"
      ]
    },
    {
      "cell_type": "code",
      "execution_count": null,
      "id": "f86ab66a-dd1b-4067-93f4-be3992c9ee5e",
      "metadata": {
        "pycharm": {
          "name": "#%%\n"
        },
        "id": "f86ab66a-dd1b-4067-93f4-be3992c9ee5e",
        "outputId": "eca4cf23-0a1e-4f9b-f301-3a1bd063dfac"
      },
      "outputs": [
        {
          "data": {
            "text/plain": [
              "229.0"
            ]
          },
          "execution_count": 43,
          "metadata": {},
          "output_type": "execute_result"
        }
      ],
      "source": [
        "# Actual Price\n",
        "y_test.iloc[0]"
      ]
    },
    {
      "cell_type": "code",
      "execution_count": null,
      "id": "5371c234-39f1-4fae-9ebf-6e0df72dbe28",
      "metadata": {
        "pycharm": {
          "name": "#%%\n"
        },
        "id": "5371c234-39f1-4fae-9ebf-6e0df72dbe28",
        "outputId": "300bb0f3-cc57-440f-d0d5-d1fdb3c90c99"
      },
      "outputs": [
        {
          "data": {
            "text/html": [
              "<style>#sk-container-id-2 {color: black;}#sk-container-id-2 pre{padding: 0;}#sk-container-id-2 div.sk-toggleable {background-color: white;}#sk-container-id-2 label.sk-toggleable__label {cursor: pointer;display: block;width: 100%;margin-bottom: 0;padding: 0.3em;box-sizing: border-box;text-align: center;}#sk-container-id-2 label.sk-toggleable__label-arrow:before {content: \"▸\";float: left;margin-right: 0.25em;color: #696969;}#sk-container-id-2 label.sk-toggleable__label-arrow:hover:before {color: black;}#sk-container-id-2 div.sk-estimator:hover label.sk-toggleable__label-arrow:before {color: black;}#sk-container-id-2 div.sk-toggleable__content {max-height: 0;max-width: 0;overflow: hidden;text-align: left;background-color: #f0f8ff;}#sk-container-id-2 div.sk-toggleable__content pre {margin: 0.2em;color: black;border-radius: 0.25em;background-color: #f0f8ff;}#sk-container-id-2 input.sk-toggleable__control:checked~div.sk-toggleable__content {max-height: 200px;max-width: 100%;overflow: auto;}#sk-container-id-2 input.sk-toggleable__control:checked~label.sk-toggleable__label-arrow:before {content: \"▾\";}#sk-container-id-2 div.sk-estimator input.sk-toggleable__control:checked~label.sk-toggleable__label {background-color: #d4ebff;}#sk-container-id-2 div.sk-label input.sk-toggleable__control:checked~label.sk-toggleable__label {background-color: #d4ebff;}#sk-container-id-2 input.sk-hidden--visually {border: 0;clip: rect(1px 1px 1px 1px);clip: rect(1px, 1px, 1px, 1px);height: 1px;margin: -1px;overflow: hidden;padding: 0;position: absolute;width: 1px;}#sk-container-id-2 div.sk-estimator {font-family: monospace;background-color: #f0f8ff;border: 1px dotted black;border-radius: 0.25em;box-sizing: border-box;margin-bottom: 0.5em;}#sk-container-id-2 div.sk-estimator:hover {background-color: #d4ebff;}#sk-container-id-2 div.sk-parallel-item::after {content: \"\";width: 100%;border-bottom: 1px solid gray;flex-grow: 1;}#sk-container-id-2 div.sk-label:hover label.sk-toggleable__label {background-color: #d4ebff;}#sk-container-id-2 div.sk-serial::before {content: \"\";position: absolute;border-left: 1px solid gray;box-sizing: border-box;top: 0;bottom: 0;left: 50%;z-index: 0;}#sk-container-id-2 div.sk-serial {display: flex;flex-direction: column;align-items: center;background-color: white;padding-right: 0.2em;padding-left: 0.2em;position: relative;}#sk-container-id-2 div.sk-item {position: relative;z-index: 1;}#sk-container-id-2 div.sk-parallel {display: flex;align-items: stretch;justify-content: center;background-color: white;position: relative;}#sk-container-id-2 div.sk-item::before, #sk-container-id-2 div.sk-parallel-item::before {content: \"\";position: absolute;border-left: 1px solid gray;box-sizing: border-box;top: 0;bottom: 0;left: 50%;z-index: -1;}#sk-container-id-2 div.sk-parallel-item {display: flex;flex-direction: column;z-index: 1;position: relative;background-color: white;}#sk-container-id-2 div.sk-parallel-item:first-child::after {align-self: flex-end;width: 50%;}#sk-container-id-2 div.sk-parallel-item:last-child::after {align-self: flex-start;width: 50%;}#sk-container-id-2 div.sk-parallel-item:only-child::after {width: 0;}#sk-container-id-2 div.sk-dashed-wrapped {border: 1px dashed gray;margin: 0 0.4em 0.5em 0.4em;box-sizing: border-box;padding-bottom: 0.4em;background-color: white;}#sk-container-id-2 div.sk-label label {font-family: monospace;font-weight: bold;display: inline-block;line-height: 1.2em;}#sk-container-id-2 div.sk-label-container {text-align: center;}#sk-container-id-2 div.sk-container {/* jupyter's `normalize.less` sets `[hidden] { display: none; }` but bootstrap.min.css set `[hidden] { display: none !important; }` so we also need the `!important` here to be able to override the default hidden behavior on the sphinx rendered scikit-learn.org. See: https://github.com/scikit-learn/scikit-learn/issues/21755 */display: inline-block !important;position: relative;}#sk-container-id-2 div.sk-text-repr-fallback {display: none;}</style><div id=\"sk-container-id-2\" class=\"sk-top-container\"><div class=\"sk-text-repr-fallback\"><pre>LinearRegression()</pre><b>In a Jupyter environment, please rerun this cell to show the HTML representation or trust the notebook. <br />On GitHub, the HTML representation is unable to render, please try loading this page with nbviewer.org.</b></div><div class=\"sk-container\" hidden><div class=\"sk-item\"><div class=\"sk-estimator sk-toggleable\"><input class=\"sk-toggleable__control sk-hidden--visually\" id=\"sk-estimator-id-2\" type=\"checkbox\" checked><label for=\"sk-estimator-id-2\" class=\"sk-toggleable__label sk-toggleable__label-arrow\">LinearRegression</label><div class=\"sk-toggleable__content\"><pre>LinearRegression()</pre></div></div></div></div></div>"
            ],
            "text/plain": [
              "LinearRegression()"
            ]
          },
          "execution_count": 44,
          "metadata": {},
          "output_type": "execute_result"
        }
      ],
      "source": [
        "from sklearn.model_selection import train_test_split\n",
        "from sklearn.linear_model import LinearRegression\n",
        "from sklearn.metrics import mean_squared_error\n",
        "model = LinearRegression()\n",
        "model.fit(X_train, y_train)"
      ]
    },
    {
      "cell_type": "code",
      "execution_count": null,
      "id": "c1e5830c",
      "metadata": {
        "id": "c1e5830c",
        "outputId": "acda626f-d0ee-46dd-93df-a84ea67b3e90"
      },
      "outputs": [
        {
          "data": {
            "text/html": [
              "<style>#sk-container-id-3 {color: black;}#sk-container-id-3 pre{padding: 0;}#sk-container-id-3 div.sk-toggleable {background-color: white;}#sk-container-id-3 label.sk-toggleable__label {cursor: pointer;display: block;width: 100%;margin-bottom: 0;padding: 0.3em;box-sizing: border-box;text-align: center;}#sk-container-id-3 label.sk-toggleable__label-arrow:before {content: \"▸\";float: left;margin-right: 0.25em;color: #696969;}#sk-container-id-3 label.sk-toggleable__label-arrow:hover:before {color: black;}#sk-container-id-3 div.sk-estimator:hover label.sk-toggleable__label-arrow:before {color: black;}#sk-container-id-3 div.sk-toggleable__content {max-height: 0;max-width: 0;overflow: hidden;text-align: left;background-color: #f0f8ff;}#sk-container-id-3 div.sk-toggleable__content pre {margin: 0.2em;color: black;border-radius: 0.25em;background-color: #f0f8ff;}#sk-container-id-3 input.sk-toggleable__control:checked~div.sk-toggleable__content {max-height: 200px;max-width: 100%;overflow: auto;}#sk-container-id-3 input.sk-toggleable__control:checked~label.sk-toggleable__label-arrow:before {content: \"▾\";}#sk-container-id-3 div.sk-estimator input.sk-toggleable__control:checked~label.sk-toggleable__label {background-color: #d4ebff;}#sk-container-id-3 div.sk-label input.sk-toggleable__control:checked~label.sk-toggleable__label {background-color: #d4ebff;}#sk-container-id-3 input.sk-hidden--visually {border: 0;clip: rect(1px 1px 1px 1px);clip: rect(1px, 1px, 1px, 1px);height: 1px;margin: -1px;overflow: hidden;padding: 0;position: absolute;width: 1px;}#sk-container-id-3 div.sk-estimator {font-family: monospace;background-color: #f0f8ff;border: 1px dotted black;border-radius: 0.25em;box-sizing: border-box;margin-bottom: 0.5em;}#sk-container-id-3 div.sk-estimator:hover {background-color: #d4ebff;}#sk-container-id-3 div.sk-parallel-item::after {content: \"\";width: 100%;border-bottom: 1px solid gray;flex-grow: 1;}#sk-container-id-3 div.sk-label:hover label.sk-toggleable__label {background-color: #d4ebff;}#sk-container-id-3 div.sk-serial::before {content: \"\";position: absolute;border-left: 1px solid gray;box-sizing: border-box;top: 0;bottom: 0;left: 50%;z-index: 0;}#sk-container-id-3 div.sk-serial {display: flex;flex-direction: column;align-items: center;background-color: white;padding-right: 0.2em;padding-left: 0.2em;position: relative;}#sk-container-id-3 div.sk-item {position: relative;z-index: 1;}#sk-container-id-3 div.sk-parallel {display: flex;align-items: stretch;justify-content: center;background-color: white;position: relative;}#sk-container-id-3 div.sk-item::before, #sk-container-id-3 div.sk-parallel-item::before {content: \"\";position: absolute;border-left: 1px solid gray;box-sizing: border-box;top: 0;bottom: 0;left: 50%;z-index: -1;}#sk-container-id-3 div.sk-parallel-item {display: flex;flex-direction: column;z-index: 1;position: relative;background-color: white;}#sk-container-id-3 div.sk-parallel-item:first-child::after {align-self: flex-end;width: 50%;}#sk-container-id-3 div.sk-parallel-item:last-child::after {align-self: flex-start;width: 50%;}#sk-container-id-3 div.sk-parallel-item:only-child::after {width: 0;}#sk-container-id-3 div.sk-dashed-wrapped {border: 1px dashed gray;margin: 0 0.4em 0.5em 0.4em;box-sizing: border-box;padding-bottom: 0.4em;background-color: white;}#sk-container-id-3 div.sk-label label {font-family: monospace;font-weight: bold;display: inline-block;line-height: 1.2em;}#sk-container-id-3 div.sk-label-container {text-align: center;}#sk-container-id-3 div.sk-container {/* jupyter's `normalize.less` sets `[hidden] { display: none; }` but bootstrap.min.css set `[hidden] { display: none !important; }` so we also need the `!important` here to be able to override the default hidden behavior on the sphinx rendered scikit-learn.org. See: https://github.com/scikit-learn/scikit-learn/issues/21755 */display: inline-block !important;position: relative;}#sk-container-id-3 div.sk-text-repr-fallback {display: none;}</style><div id=\"sk-container-id-3\" class=\"sk-top-container\"><div class=\"sk-text-repr-fallback\"><pre>LinearRegression()</pre><b>In a Jupyter environment, please rerun this cell to show the HTML representation or trust the notebook. <br />On GitHub, the HTML representation is unable to render, please try loading this page with nbviewer.org.</b></div><div class=\"sk-container\" hidden><div class=\"sk-item\"><div class=\"sk-estimator sk-toggleable\"><input class=\"sk-toggleable__control sk-hidden--visually\" id=\"sk-estimator-id-3\" type=\"checkbox\" checked><label for=\"sk-estimator-id-3\" class=\"sk-toggleable__label sk-toggleable__label-arrow\">LinearRegression</label><div class=\"sk-toggleable__content\"><pre>LinearRegression()</pre></div></div></div></div></div>"
            ],
            "text/plain": [
              "LinearRegression()"
            ]
          },
          "execution_count": 45,
          "metadata": {},
          "output_type": "execute_result"
        }
      ],
      "source": [
        "model = LinearRegression()\n",
        "model.fit(X_train, y_train)"
      ]
    },
    {
      "cell_type": "code",
      "execution_count": null,
      "id": "0b1cf2b0",
      "metadata": {
        "id": "0b1cf2b0",
        "outputId": "4b9ac85c-378a-46a6-a208-528a1cfe4527"
      },
      "outputs": [
        {
          "name": "stdout",
          "output_type": "stream",
          "text": [
            "Mean Squared Error (MSE): 105665.87481300044\n",
            "Root Mean Squared Error (RMSE): 325.06287824511804\n",
            "R-squared (Coefficient of Determination): 0.7078004925116601\n",
            "Accuracy :  70.780049251166\n"
          ]
        }
      ],
      "source": [
        "import numpy as np\n",
        "y_pred = model.predict(X_test)\n",
        "\n",
        "# Compute the Mean Squared Error (MSE)\n",
        "mse = mean_squared_error(y_test, y_pred)\n",
        "\n",
        "# Compute the Root Mean Squared Error (RMSE)\n",
        "rmse = np.sqrt(mse)\n",
        "\n",
        "# Alternatively, you can compute R-squared (coefficient of determination)\n",
        "r_squared = model.score(X_test, y_test)\n",
        "\n",
        "# Print the evaluation metrics\n",
        "print(\"Mean Squared Error (MSE):\", mse)\n",
        "print(\"Root Mean Squared Error (RMSE):\", rmse)\n",
        "print(\"R-squared (Coefficient of Determination):\", r_squared)\n",
        "accuracy = r_squared*100;\n",
        "print(\"Accuracy : \",accuracy)\n"
      ]
    },
    {
      "cell_type": "markdown",
      "id": "e49c28d4",
      "metadata": {
        "id": "e49c28d4"
      },
      "source": [
        "# Conclusion"
      ]
    },
    {
      "cell_type": "markdown",
      "id": "0c727935",
      "metadata": {
        "id": "0c727935"
      },
      "source": [
        "In this project, we embarked on a journey to predict laptop prices using machine learning techniques.\n",
        "Through exploration and analysis of the dataset, we uncovered valuable insights into the factors influencing laptop prices in today's market.\n",
        "\n",
        "\n",
        "\n",
        "Our findings :\n",
        "\n",
        "- CPU brand,\n",
        "- screen resolution,\n",
        "- memory size, and\n",
        "- GPU type play significant roles in determining laptop prices.\n",
        "\n",
        "These insights underscore the importance of considering multiple features when predicting laptop prices accurately.\n",
        "\n",
        "We evaluated various algorithms and feature engineering techniques to optimize model performance.\n",
        "Our models achieved a commendable level of accuracy, indicating their potential utility in real-world scenarios.\n",
        "\n",
        "\n",
        "\n",
        "Limitations Faced :\n",
        "\n",
        "- data quality issues,\n",
        "- feature selection complexities, and\n",
        "- computational constraints\n",
        "\n",
        "that posed significant hurdles in model development.\n",
        "Addressing these challenges required careful consideration and iterative refinement of our approach.\n",
        "\n",
        "By leveraging machine learning techniques, we aim to empower consumers, manufacturers, and retailers with valuable insights to make informed decisions in the dynamic landscape of laptop pricing.\n",
        "\n",
        "As we navigate the ever-evolving world of technology, our commitment to data-driven analysis remains steadfast. Together, we embark on a journey of discovery, innovation, and empowerment in the realm of laptop price prediction.\n",
        "\n",
        "\n",
        "\n",
        "Future Directions (Work):\n",
        "\n",
        "Integration of Additional Features:\n",
        " - Explore the inclusion of build quality, battery life, and brand reputation as supplementary features.\n",
        "\n",
        "Ensemble Learning Techniques:\n",
        " - Investigate the potential of ensemble methods like random forests and gradient boosting to improve model performance.\n",
        "\n",
        "Time-Series Analysis:\n",
        " - Incorporate historical pricing trends and market fluctuations through time-series modeling techniques.\n",
        "\n",
        "Sentiment Analysis:\n",
        " - Analyze user reviews and feedback to gauge consumer perceptions and preferences regarding laptop features and brands."
      ]
    }
  ],
  "metadata": {
    "kernelspec": {
      "display_name": "Python 3 (ipykernel)",
      "language": "python",
      "name": "python3"
    },
    "language_info": {
      "codemirror_mode": {
        "name": "ipython",
        "version": 3
      },
      "file_extension": ".py",
      "mimetype": "text/x-python",
      "name": "python",
      "nbconvert_exporter": "python",
      "pygments_lexer": "ipython3",
      "version": "3.11.5"
    },
    "colab": {
      "provenance": []
    }
  },
  "nbformat": 4,
  "nbformat_minor": 5
}